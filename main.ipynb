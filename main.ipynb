{
 "cells": [
  {
   "attachments": {},
   "cell_type": "markdown",
   "metadata": {},
   "source": [
    "# Rock, Paper, Scissors game"
   ]
  },
  {
   "cell_type": "code",
   "execution_count": null,
   "metadata": {},
   "outputs": [],
   "source": [
    "from camera_rps import camera_rps\n",
    "\n",
    "def play_game():\n",
    "    \n",
    "    # initilize the number of computer and user wins to zero\n",
    "    computer_wins = 0\n",
    "    user_wins = 0\n",
    "    # create an instance of the class camera_rps called game\n",
    "    game = camera_rps()\n",
    "    while True:\n",
    "        # get the player choice through the camera\n",
    "        player_choice = game.get_prediction()\n",
    "        # get the computer choice by randomly selecting a c lass\n",
    "        computer_choice = game.get_computer_choice()\n",
    "        # use the method get_winner to determine the winner of the turn\n",
    "        user_win, computer_win = game.get_winner(computer_choice, player_choice)\n",
    "        # increment the number of wins\n",
    "        user_wins += user_win\n",
    "        computer_wins += computer_win\n",
    "\n",
    "        # checks if one between the player and the computer has reached three turn victories,\n",
    "        # otherwise continutes the loop\n",
    "        if computer_wins == 3:\n",
    "            print(\"Computer wins the game\")\n",
    "            break\n",
    "        elif user_wins == 3:\n",
    "            print(\"You win, congrats!\")\n",
    "            break\n",
    "        else:\n",
    "            print(f\"User score: {user_wins}\\nComputer score: {computer_wins}\")\n",
    "            print('Play another turn')\n",
    "\n",
    "    # I should add a way of exiting the game (use ESC)\n",
    "    return\n",
    "\n",
    "\n",
    "play_game()\n"
   ]
  }
 ],
 "metadata": {
  "language_info": {
   "name": "python"
  },
  "orig_nbformat": 4
 },
 "nbformat": 4,
 "nbformat_minor": 2
}
