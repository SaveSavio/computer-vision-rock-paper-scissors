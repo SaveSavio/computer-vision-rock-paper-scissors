{
 "cells": [
  {
   "cell_type": "code",
   "execution_count": 5,
   "metadata": {},
   "outputs": [
    {
     "name": "stdout",
     "output_type": "stream",
     "text": [
      "1687013709.712159\n"
     ]
    }
   ],
   "source": [
    "import time\n",
    "print(time.time())"
   ]
  },
  {
   "cell_type": "code",
   "execution_count": 7,
   "metadata": {},
   "outputs": [
    {
     "name": "stdout",
     "output_type": "stream",
     "text": [
      "3\n",
      "2\n",
      "1\n",
      "Time's up!\n"
     ]
    }
   ],
   "source": [
    "import time\n",
    "\n",
    "def countdown(seconds):\n",
    "    while seconds > 0:\n",
    "        print(seconds)\n",
    "        time.sleep(1)  # Pause for 1 second\n",
    "        seconds -= 1\n",
    "    print(\"Time's up!\")\n",
    "\n",
    "# Example usage: Countdown from 10 seconds\n",
    "countdown(3)\n"
   ]
  },
  {
   "cell_type": "code",
   "execution_count": 5,
   "metadata": {},
   "outputs": [
    {
     "name": "stdout",
     "output_type": "stream",
     "text": [
      "3\n",
      "2\n",
      "1\n",
      "Shoot!\n"
     ]
    }
   ],
   "source": [
    "import time\n",
    "\n",
    "def countdown(seconds):\n",
    "    start_time = time.time()\n",
    "    end_time = start_time + seconds\n",
    "    \n",
    "    while time.time() < end_time:\n",
    "        remaining_seconds = int(end_time - time.time())\n",
    "        \n",
    "        print(remaining_seconds+1)\n",
    "        \n",
    "        # Add a small delay to prevent the loop from consuming too much CPU\n",
    "        time.sleep(1)\n",
    "\n",
    "    print(\"Shoot!\")\n",
    "\n",
    "countdown(3)\n"
   ]
  },
  {
   "cell_type": "code",
   "execution_count": 4,
   "metadata": {},
   "outputs": [
    {
     "ename": "TypeError",
     "evalue": "camera_rps.get_prediction() missing 1 required positional argument: 'self'",
     "output_type": "error",
     "traceback": [
      "\u001b[0;31m---------------------------------------------------------------------------\u001b[0m",
      "\u001b[0;31mTypeError\u001b[0m                                 Traceback (most recent call last)",
      "Cell \u001b[0;32mIn[4], line 3\u001b[0m\n\u001b[1;32m      1\u001b[0m \u001b[39mfrom\u001b[39;00m \u001b[39mcamera_rps\u001b[39;00m \u001b[39mimport\u001b[39;00m camera_rps\n\u001b[1;32m      2\u001b[0m camera_rps()\n\u001b[0;32m----> 3\u001b[0m camera_rps\u001b[39m.\u001b[39;49mget_prediction()\n",
      "\u001b[0;31mTypeError\u001b[0m: camera_rps.get_prediction() missing 1 required positional argument: 'self'"
     ]
    }
   ],
   "source": [
    "from camera_rps import camera_rps\n",
    "camera_rps()\n",
    "camera_rps.get_prediction()"
   ]
  },
  {
   "cell_type": "code",
   "execution_count": null,
   "metadata": {},
   "outputs": [],
   "source": []
  }
 ],
 "metadata": {
  "kernelspec": {
   "display_name": "base",
   "language": "python",
   "name": "python3"
  },
  "language_info": {
   "codemirror_mode": {
    "name": "ipython",
    "version": 3
   },
   "file_extension": ".py",
   "mimetype": "text/x-python",
   "name": "python",
   "nbconvert_exporter": "python",
   "pygments_lexer": "ipython3",
   "version": "3.10.11"
  },
  "orig_nbformat": 4
 },
 "nbformat": 4,
 "nbformat_minor": 2
}
