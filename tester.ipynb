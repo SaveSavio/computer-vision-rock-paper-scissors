{
 "cells": [
  {
   "cell_type": "code",
   "execution_count": 5,
   "metadata": {},
   "outputs": [
    {
     "name": "stdout",
     "output_type": "stream",
     "text": [
      "1687013709.712159\n"
     ]
    }
   ],
   "source": [
    "import time\n",
    "print(time.time())"
   ]
  },
  {
   "cell_type": "code",
   "execution_count": 7,
   "metadata": {},
   "outputs": [
    {
     "name": "stdout",
     "output_type": "stream",
     "text": [
      "3\n",
      "2\n",
      "1\n",
      "Time's up!\n"
     ]
    }
   ],
   "source": [
    "import time\n",
    "\n",
    "def countdown(seconds):\n",
    "    while seconds > 0:\n",
    "        print(seconds)\n",
    "        time.sleep(1)  # Pause for 1 second\n",
    "        seconds -= 1\n",
    "    print(\"Time's up!\")\n",
    "\n",
    "# Example usage: Countdown from 10 seconds\n",
    "countdown(3)\n"
   ]
  },
  {
   "cell_type": "code",
   "execution_count": 11,
   "metadata": {},
   "outputs": [
    {
     "name": "stdout",
     "output_type": "stream",
     "text": [
      "Time's up!\n"
     ]
    }
   ],
   "source": [
    "\n",
    "def countdown(seconds):\n",
    "    start_time = time.time()\n",
    "    end_time = start_time + seconds\n",
    "    \n",
    "    while time.time() < end_time:\n",
    "        remaining_seconds = int(end_time - time.time())\n",
    "        \n",
    "        # print(remaining_seconds)\n",
    "        \n",
    "        # Add a small delay to prevent the loop from consuming too much CPU\n",
    "        # time.sleep(0.1)\n",
    "\n",
    "    print(\"Time's up!\")\n",
    "\n",
    "countdown(3)\n"
   ]
  }
 ],
 "metadata": {
  "kernelspec": {
   "display_name": "base",
   "language": "python",
   "name": "python3"
  },
  "language_info": {
   "codemirror_mode": {
    "name": "ipython",
    "version": 3
   },
   "file_extension": ".py",
   "mimetype": "text/x-python",
   "name": "python",
   "nbconvert_exporter": "python",
   "pygments_lexer": "ipython3",
   "version": "3.9.6"
  },
  "orig_nbformat": 4
 },
 "nbformat": 4,
 "nbformat_minor": 2
}
