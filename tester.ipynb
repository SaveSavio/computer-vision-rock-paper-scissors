{
 "cells": [
  {
   "cell_type": "code",
   "execution_count": 25,
   "metadata": {},
   "outputs": [
    {
     "data": {
      "text/plain": [
       "<module 'camera_rps' from '/Users/saveriotufano/Library/CloudStorage/GoogleDrive-saverio.tufano@gmail.com/My Drive/001. Data Science/005. Ai Core/009. computer-vision-rock-paper-scissors/camera_rps.py'>"
      ]
     },
     "execution_count": 25,
     "metadata": {},
     "output_type": "execute_result"
    }
   ],
   "source": [
    "import importlib\n",
    "import camera_rps\n",
    "\n",
    "importlib.reload(camera_rps)"
   ]
  },
  {
   "cell_type": "code",
   "execution_count": 26,
   "metadata": {},
   "outputs": [
    {
     "name": "stdout",
     "output_type": "stream",
     "text": [
      "3\n",
      "2\n",
      "1\n",
      "Shoot!\n",
      "1/1 [==============================] - 1s 807ms/step\n",
      "Class: Scissors\n",
      "Confidence Score: 73 %\n",
      "Player chose Scissors\n",
      "Computer chose Paper\n",
      "You win!\n",
      "loop\n",
      "Score:\n",
      "user: 1\n",
      "computer: 0\n",
      "play another turn\n",
      "3\n",
      "2\n",
      "1\n",
      "Shoot!\n"
     ]
    },
    {
     "ename": "error",
     "evalue": "OpenCV(4.5.5) /Users/runner/miniforge3/conda-bld/libopencv_1648506022632/work/modules/imgproc/src/resize.cpp:4052: error: (-215:Assertion failed) !ssize.empty() in function 'resize'\n",
     "output_type": "error",
     "traceback": [
      "\u001b[0;31m---------------------------------------------------------------------------\u001b[0m",
      "\u001b[0;31merror\u001b[0m                                     Traceback (most recent call last)",
      "Cell \u001b[0;32mIn[26], line 34\u001b[0m\n\u001b[1;32m     28\u001b[0m             \u001b[39mprint\u001b[39m(\u001b[39m'\u001b[39m\u001b[39mplay another turn\u001b[39m\u001b[39m'\u001b[39m)\n\u001b[1;32m     30\u001b[0m     \u001b[39m# I should add a way of exiting the game (use ESC)\u001b[39;00m\n\u001b[0;32m---> 34\u001b[0m play_game()\n",
      "Cell \u001b[0;32mIn[26], line 14\u001b[0m, in \u001b[0;36mplay_game\u001b[0;34m()\u001b[0m\n\u001b[1;32m     12\u001b[0m game \u001b[39m=\u001b[39m camera_rps()\n\u001b[1;32m     13\u001b[0m \u001b[39mwhile\u001b[39;00m \u001b[39mTrue\u001b[39;00m:\n\u001b[0;32m---> 14\u001b[0m     player_choice \u001b[39m=\u001b[39m game\u001b[39m.\u001b[39;49mget_prediction()\n\u001b[1;32m     15\u001b[0m     computer_choice \u001b[39m=\u001b[39m game\u001b[39m.\u001b[39mget_computer_choice()\n\u001b[1;32m     16\u001b[0m     user_win, computer_win \u001b[39m=\u001b[39m game\u001b[39m.\u001b[39mget_winner(computer_choice, player_choice)\n",
      "File \u001b[0;32m~/Library/CloudStorage/GoogleDrive-saverio.tufano@gmail.com/My Drive/001. Data Science/005. Ai Core/009. computer-vision-rock-paper-scissors/camera_rps.py:103\u001b[0m, in \u001b[0;36mcamera_rps.get_prediction\u001b[0;34m(self)\u001b[0m\n\u001b[1;32m    101\u001b[0m ret, image \u001b[39m=\u001b[39m \u001b[39mself\u001b[39m\u001b[39m.\u001b[39mcamera\u001b[39m.\u001b[39mread()\n\u001b[1;32m    102\u001b[0m \u001b[39m# Resize the raw image into (224-height,224-width) pixels\u001b[39;00m\n\u001b[0;32m--> 103\u001b[0m image \u001b[39m=\u001b[39m cv2\u001b[39m.\u001b[39;49mresize(image, (\u001b[39m224\u001b[39;49m, \u001b[39m224\u001b[39;49m), interpolation\u001b[39m=\u001b[39;49mcv2\u001b[39m.\u001b[39;49mINTER_AREA)\n\u001b[1;32m    104\u001b[0m \u001b[39m# Show the image in a window\u001b[39;00m\n\u001b[1;32m    105\u001b[0m cv2\u001b[39m.\u001b[39mimshow(\u001b[39m\"\u001b[39m\u001b[39mWebcam Image\u001b[39m\u001b[39m\"\u001b[39m, image)\n",
      "\u001b[0;31merror\u001b[0m: OpenCV(4.5.5) /Users/runner/miniforge3/conda-bld/libopencv_1648506022632/work/modules/imgproc/src/resize.cpp:4052: error: (-215:Assertion failed) !ssize.empty() in function 'resize'\n"
     ]
    }
   ],
   "source": [
    "#import importlib\n",
    "from camera_rps import camera_rps\n",
    "\n",
    "#importlib.reload(camera_rps)\n",
    "\n",
    "def play_game():\n",
    "    # define the number of wins necessary to win the game\n",
    "    num_wins = 3\n",
    "    # initilize the number of computer and user wins to zero\n",
    "    computer_wins = 0\n",
    "    user_wins = 0\n",
    "    game = camera_rps()\n",
    "    while True:\n",
    "        player_choice = game.get_prediction()\n",
    "        computer_choice = game.get_computer_choice()\n",
    "        user_win, computer_win = game.get_winner(computer_choice, player_choice)\n",
    "        user_wins += user_win\n",
    "        computer_wins += computer_win\n",
    "        print('loop')\n",
    "        if computer_wins == 3:\n",
    "            print(\"Computer wins the game\")\n",
    "            return\n",
    "        elif user_wins == 3:\n",
    "            print(\"You win, congrats!\")\n",
    "            return\n",
    "        else:\n",
    "            print(f\"User score: {user_wins}\\nComputer score: {computer_wins}\")\n",
    "            print('play another turn')\n",
    "\n",
    "    # I should add a way of exiting the game (use ESC)\n",
    "\n",
    "\n",
    "\n",
    "play_game()"
   ]
  },
  {
   "cell_type": "code",
   "execution_count": 21,
   "metadata": {},
   "outputs": [
    {
     "data": {
      "text/plain": [
       "True"
      ]
     },
     "execution_count": 21,
     "metadata": {},
     "output_type": "execute_result"
    }
   ],
   "source": [
    "'Scissors' == 'Scissors'"
   ]
  },
  {
   "cell_type": "code",
   "execution_count": null,
   "metadata": {},
   "outputs": [],
   "source": []
  }
 ],
 "metadata": {
  "kernelspec": {
   "display_name": "base",
   "language": "python",
   "name": "python3"
  },
  "language_info": {
   "codemirror_mode": {
    "name": "ipython",
    "version": 3
   },
   "file_extension": ".py",
   "mimetype": "text/x-python",
   "name": "python",
   "nbconvert_exporter": "python",
   "pygments_lexer": "ipython3",
   "version": "3.10.11"
  },
  "orig_nbformat": 4
 },
 "nbformat": 4,
 "nbformat_minor": 2
}
