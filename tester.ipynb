{
 "cells": [
  {
   "cell_type": "code",
   "execution_count": 10,
   "metadata": {},
   "outputs": [
    {
     "name": "stdout",
     "output_type": "stream",
     "text": [
      "3\n",
      "2\n",
      "1\n",
      "Shoot!\n",
      "1/1 [==============================] - 1s 907ms/step\n",
      "3\n",
      "2\n",
      "1\n",
      "Shoot!\n",
      "1/1 [==============================] - 0s 34ms/step\n",
      "3\n",
      "2\n",
      "1\n",
      "Shoot!\n",
      "1/1 [==============================] - 0s 38ms/step\n",
      "3\n",
      "2\n",
      "1\n",
      "Shoot!\n",
      "1/1 [==============================] - 0s 33ms/step\n",
      "3\n",
      "2\n"
     ]
    },
    {
     "ename": "KeyboardInterrupt",
     "evalue": "",
     "output_type": "error",
     "traceback": [
      "\u001b[0;31m---------------------------------------------------------------------------\u001b[0m",
      "\u001b[0;31mKeyboardInterrupt\u001b[0m                         Traceback (most recent call last)",
      "Cell \u001b[0;32mIn[10], line 8\u001b[0m\n\u001b[1;32m      6\u001b[0m \u001b[39mfrom\u001b[39;00m \u001b[39mcamera_rps\u001b[39;00m \u001b[39mimport\u001b[39;00m camera_rps\n\u001b[1;32m      7\u001b[0m game \u001b[39m=\u001b[39m camera_rps()\n\u001b[0;32m----> 8\u001b[0m [rps_class, confidence] \u001b[39m=\u001b[39m game\u001b[39m.\u001b[39;49mget_prediction()\n\u001b[1;32m      9\u001b[0m \u001b[39mprint\u001b[39m(rps_class[\u001b[39m1\u001b[39m:])\n",
      "File \u001b[0;32m~/Library/CloudStorage/GoogleDrive-saverio.tufano@gmail.com/My Drive/001. Data Science/005. Ai Core/009. computer-vision-rock-paper-scissors/camera_rps.py:73\u001b[0m, in \u001b[0;36mcamera_rps.get_prediction\u001b[0;34m(self)\u001b[0m\n\u001b[1;32m     70\u001b[0m \u001b[39m# Normalize the image array\u001b[39;00m\n\u001b[1;32m     71\u001b[0m image \u001b[39m=\u001b[39m (image \u001b[39m/\u001b[39m \u001b[39m127.5\u001b[39m) \u001b[39m-\u001b[39m \u001b[39m1\u001b[39m\n\u001b[0;32m---> 73\u001b[0m \u001b[39mself\u001b[39;49m\u001b[39m.\u001b[39;49mcountdown(\u001b[39m3\u001b[39;49m)\n\u001b[1;32m     75\u001b[0m \u001b[39m# Predicts the model\u001b[39;00m\n\u001b[1;32m     76\u001b[0m prediction \u001b[39m=\u001b[39m \u001b[39mself\u001b[39m\u001b[39m.\u001b[39mmodel\u001b[39m.\u001b[39mpredict(image)\n",
      "File \u001b[0;32m~/Library/CloudStorage/GoogleDrive-saverio.tufano@gmail.com/My Drive/001. Data Science/005. Ai Core/009. computer-vision-rock-paper-scissors/camera_rps.py:37\u001b[0m, in \u001b[0;36mcamera_rps.countdown\u001b[0;34m(self, seconds)\u001b[0m\n\u001b[1;32m     35\u001b[0m     \u001b[39mprint\u001b[39m(remaining_seconds\u001b[39m+\u001b[39m\u001b[39m1\u001b[39m)\n\u001b[1;32m     36\u001b[0m     \u001b[39m# Add a small delay to prevent the loop from consuming too much CPU\u001b[39;00m\n\u001b[0;32m---> 37\u001b[0m     time_1\u001b[39m.\u001b[39;49msleep(\u001b[39m1\u001b[39;49m)\n\u001b[1;32m     39\u001b[0m \u001b[39mprint\u001b[39m(\u001b[39m\"\u001b[39m\u001b[39mShoot!\u001b[39m\u001b[39m\"\u001b[39m)\n",
      "\u001b[0;31mKeyboardInterrupt\u001b[0m: "
     ]
    }
   ],
   "source": [
    "import importlib\n",
    "import camera_rps\n",
    "\n",
    "importlib.reload(camera_rps)\n",
    "\n",
    "from camera_rps import camera_rps\n",
    "game = camera_rps()\n",
    "[rps_class, confidence] = game.get_prediction()\n",
    "print(rps_class[1:])\n"
   ]
  },
  {
   "cell_type": "code",
   "execution_count": null,
   "metadata": {},
   "outputs": [],
   "source": []
  }
 ],
 "metadata": {
  "kernelspec": {
   "display_name": "base",
   "language": "python",
   "name": "python3"
  },
  "language_info": {
   "codemirror_mode": {
    "name": "ipython",
    "version": 3
   },
   "file_extension": ".py",
   "mimetype": "text/x-python",
   "name": "python",
   "nbconvert_exporter": "python",
   "pygments_lexer": "ipython3",
   "version": "3.10.11"
  },
  "orig_nbformat": 4
 },
 "nbformat": 4,
 "nbformat_minor": 2
}
