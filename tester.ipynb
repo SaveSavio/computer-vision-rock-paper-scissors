{
 "cells": [
  {
   "cell_type": "code",
   "execution_count": 1,
   "metadata": {},
   "outputs": [
    {
     "data": {
      "text/plain": [
       "<module 'camera_rps' from '/Users/saveriotufano/Library/CloudStorage/GoogleDrive-saverio.tufano@gmail.com/My Drive/001. Data Science/005. Ai Core/009. computer-vision-rock-paper-scissors/camera_rps.py'>"
      ]
     },
     "execution_count": 1,
     "metadata": {},
     "output_type": "execute_result"
    }
   ],
   "source": [
    "import importlib\n",
    "import camera_rps\n",
    "\n",
    "importlib.reload(camera_rps)"
   ]
  },
  {
   "cell_type": "code",
   "execution_count": 2,
   "metadata": {},
   "outputs": [
    {
     "name": "stdout",
     "output_type": "stream",
     "text": [
      "3\n",
      "2\n",
      "1\n",
      "Shoot!\n"
     ]
    },
    {
     "name": "stderr",
     "output_type": "stream",
     "text": [
      "2023-06-20 22:35:44.018829: W tensorflow/tsl/platform/profile_utils/cpu_utils.cc:128] Failed to get CPU frequency: 0 Hz\n"
     ]
    },
    {
     "name": "stdout",
     "output_type": "stream",
     "text": [
      "1/1 [==============================] - 1s 883ms/step\n",
      "Class: Rock\n",
      "Confidence Score: 73 %\n",
      "3\n",
      "2\n",
      "1\n",
      "Shoot!\n",
      "1/1 [==============================] - 0s 35ms/step\n",
      "Class: Paper\n",
      "Confidence Score: 100 %\n",
      "3\n",
      "2\n",
      "1\n",
      "Shoot!\n",
      "1/1 [==============================] - 0s 34ms/step\n",
      "Class: Paper\n",
      "Confidence Score: 100 %\n",
      "3\n",
      "2\n",
      "1\n",
      "Shoot!\n",
      "1/1 [==============================] - 0s 33ms/step\n",
      "Class: Paper\n",
      "Confidence Score: 94 %\n",
      "3\n",
      "2\n",
      "1\n",
      "Shoot!\n",
      "1/1 [==============================] - 0s 34ms/step\n",
      "Class: Paper\n",
      "Confidence Score: 98 %\n",
      "3\n",
      "2\n",
      "1\n",
      "Shoot!\n",
      "1/1 [==============================] - 0s 33ms/step\n",
      "Class: Paper\n",
      "Confidence Score: 87 %\n",
      "3\n",
      "2\n",
      "1\n",
      "Shoot!\n",
      "1/1 [==============================] - 0s 32ms/step\n",
      "Class: Scissors\n",
      "Confidence Score: 79 %\n",
      "3\n",
      "2\n",
      "1\n",
      "Shoot!\n",
      "1/1 [==============================] - 0s 33ms/step\n",
      "Class: Paper\n",
      "Confidence Score: 95 %\n",
      "3\n",
      "2\n",
      "1\n",
      "Shoot!\n",
      "1/1 [==============================] - 0s 33ms/step\n",
      "Class: Paper\n",
      "Confidence Score: 77 %\n",
      "3\n",
      "2\n",
      "1\n",
      "Shoot!\n",
      "1/1 [==============================] - 0s 33ms/step\n",
      "Class: Paper\n",
      "Confidence Score: 75 %\n",
      "3\n",
      "2\n",
      "1\n"
     ]
    },
    {
     "ename": "KeyboardInterrupt",
     "evalue": "",
     "output_type": "error",
     "traceback": [
      "\u001b[0;31m---------------------------------------------------------------------------\u001b[0m",
      "\u001b[0;31mKeyboardInterrupt\u001b[0m                         Traceback (most recent call last)",
      "Cell \u001b[0;32mIn[2], line 34\u001b[0m\n\u001b[1;32m     30\u001b[0m     \u001b[39m# I should add a way of exiting the game (use ESC)\u001b[39;00m\n\u001b[1;32m     31\u001b[0m     \u001b[39mreturn\u001b[39;00m\n\u001b[0;32m---> 34\u001b[0m play_game()\n",
      "Cell \u001b[0;32mIn[2], line 14\u001b[0m, in \u001b[0;36mplay_game\u001b[0;34m()\u001b[0m\n\u001b[1;32m     12\u001b[0m game \u001b[39m=\u001b[39m camera_rps()\n\u001b[1;32m     13\u001b[0m \u001b[39mwhile\u001b[39;00m \u001b[39mTrue\u001b[39;00m:\n\u001b[0;32m---> 14\u001b[0m     player_choice \u001b[39m=\u001b[39m game\u001b[39m.\u001b[39;49mget_prediction()\n\u001b[1;32m     15\u001b[0m     computer_choice \u001b[39m=\u001b[39m game\u001b[39m.\u001b[39mget_computer_choice()\n\u001b[1;32m     16\u001b[0m     user_win, computer_win \u001b[39m=\u001b[39m game\u001b[39m.\u001b[39mget_winner(computer_choice, player_choice)\n",
      "File \u001b[0;32m~/Library/CloudStorage/GoogleDrive-saverio.tufano@gmail.com/My Drive/001. Data Science/005. Ai Core/009. computer-vision-rock-paper-scissors/camera_rps.py:105\u001b[0m, in \u001b[0;36mcamera_rps.get_prediction\u001b[0;34m(self)\u001b[0m\n\u001b[1;32m    102\u001b[0m \u001b[39m# Normalize the image array\u001b[39;00m\n\u001b[1;32m    103\u001b[0m image \u001b[39m=\u001b[39m (image \u001b[39m/\u001b[39m \u001b[39m127.5\u001b[39m) \u001b[39m-\u001b[39m \u001b[39m1\u001b[39m\n\u001b[0;32m--> 105\u001b[0m \u001b[39mself\u001b[39;49m\u001b[39m.\u001b[39;49mcountdown(\u001b[39m3\u001b[39;49m)\n\u001b[1;32m    106\u001b[0m \u001b[39mprint\u001b[39m(\u001b[39m'\u001b[39m\u001b[39mShoot!\u001b[39m\u001b[39m'\u001b[39m)\n\u001b[1;32m    108\u001b[0m \u001b[39m# Predicts the model\u001b[39;00m\n",
      "File \u001b[0;32m~/Library/CloudStorage/GoogleDrive-saverio.tufano@gmail.com/My Drive/001. Data Science/005. Ai Core/009. computer-vision-rock-paper-scissors/camera_rps.py:73\u001b[0m, in \u001b[0;36mcamera_rps.countdown\u001b[0;34m(self, seconds)\u001b[0m\n\u001b[1;32m     71\u001b[0m \u001b[39m# print remaining time in [s]\u001b[39;00m\n\u001b[1;32m     72\u001b[0m \u001b[39mprint\u001b[39m(remaining_seconds \u001b[39m+\u001b[39m \u001b[39m1\u001b[39m)\n\u001b[0;32m---> 73\u001b[0m time\u001b[39m.\u001b[39;49msleep(\u001b[39m1\u001b[39;49m)\n",
      "\u001b[0;31mKeyboardInterrupt\u001b[0m: "
     ]
    }
   ],
   "source": [
    "#import importlib\n",
    "from camera_rps import camera_rps\n",
    "\n",
    "#importlib.reload(camera_rps)\n",
    "\n",
    "def play_game():\n",
    "    # define the number of wins necessary to win the game\n",
    "    num_wins = 3\n",
    "    # initilize the number of computer and user wins to zero\n",
    "    computer_wins = 0\n",
    "    user_wins = 0\n",
    "    game = camera_rps()\n",
    "    while True:\n",
    "        player_choice = game.get_prediction()\n",
    "        computer_choice = game.get_computer_choice()\n",
    "        user_win, computer_win = game.get_winner(computer_choice, player_choice)\n",
    "        user_wins += user_win\n",
    "        computer_wins += computer_win\n",
    "        #print('loop')\n",
    "        if computer_wins == 3:\n",
    "            print(\"Computer wins the game\")\n",
    "            break\n",
    "        elif user_wins == 3:\n",
    "            print(\"You win, congrats!\")\n",
    "            break\n",
    "        else:\n",
    "            print(f\"User score: {user_wins}\\nComputer score: {computer_wins}\")\n",
    "            print('Play another turn')\n",
    "\n",
    "    # I should add a way of exiting the game (use ESC)\n",
    "    return\n",
    "\n",
    "\n",
    "play_game()\n"
   ]
  },
  {
   "cell_type": "code",
   "execution_count": null,
   "metadata": {},
   "outputs": [],
   "source": []
  }
 ],
 "metadata": {
  "kernelspec": {
   "display_name": "base",
   "language": "python",
   "name": "python3"
  },
  "language_info": {
   "codemirror_mode": {
    "name": "ipython",
    "version": 3
   },
   "file_extension": ".py",
   "mimetype": "text/x-python",
   "name": "python",
   "nbconvert_exporter": "python",
   "pygments_lexer": "ipython3",
   "version": "3.10.11"
  },
  "orig_nbformat": 4
 },
 "nbformat": 4,
 "nbformat_minor": 2
}
