{
 "cells": [
  {
   "cell_type": "code",
   "execution_count": 54,
   "metadata": {},
   "outputs": [
    {
     "data": {
      "text/plain": [
       "<module 'camera_rps' from '/Users/saveriotufano/Library/CloudStorage/GoogleDrive-saverio.tufano@gmail.com/My Drive/001. Data Science/005. Ai Core/009. computer-vision-rock-paper-scissors/camera_rps.py'>"
      ]
     },
     "execution_count": 54,
     "metadata": {},
     "output_type": "execute_result"
    }
   ],
   "source": [
    "import importlib\n",
    "import camera_rps\n",
    "\n",
    "importlib.reload(camera_rps)"
   ]
  },
  {
   "cell_type": "code",
   "execution_count": 55,
   "metadata": {},
   "outputs": [
    {
     "name": "stdout",
     "output_type": "stream",
     "text": [
      "3\n",
      "2\n",
      "1\n",
      "Shoot!\n",
      "1/1 [==============================] - 1s 930ms/step\n",
      "Class: Rock\n",
      "Confidence Score: 99 %\n",
      "Player chooses: Rock\n",
      "Computer chooses: Scissors\n",
      "You win!\n",
      "User score: 1\n",
      "Computer score: 0\n",
      "Play another turn\n",
      "3\n",
      "2\n",
      "1\n",
      "Shoot!\n",
      "1/1 [==============================] - 0s 111ms/step\n",
      "Class: Rock\n",
      "Confidence Score: 92 %\n",
      "Player chooses: Rock\n",
      "Computer chooses: Scissors\n",
      "You win!\n",
      "User score: 2\n",
      "Computer score: 0\n",
      "Play another turn\n",
      "3\n",
      "2\n",
      "1\n",
      "Shoot!\n",
      "1/1 [==============================] - 0s 33ms/step\n",
      "Class: Rock\n",
      "Confidence Score: 100 %\n",
      "Player chooses: Rock\n",
      "Computer chooses: Paper\n",
      "You lost!\n",
      "User score: 2\n",
      "Computer score: 1\n",
      "Play another turn\n",
      "3\n",
      "2\n",
      "1\n",
      "Shoot!\n",
      "1/1 [==============================] - 0s 34ms/step\n",
      "Class: Rock\n",
      "Confidence Score: 98 %\n",
      "Player chooses: Rock\n",
      "Computer chooses: Scissors\n",
      "You win!\n",
      "You win, congrats!\n"
     ]
    }
   ],
   "source": [
    "#import importlib\n",
    "from camera_rps import camera_rps\n",
    "\n",
    "#importlib.reload(camera_rps)\n",
    "\n",
    "def play_game():\n",
    "    # define the number of wins necessary to win the game\n",
    "    num_wins = 3\n",
    "    # initilize the number of computer and user wins to zero\n",
    "    computer_wins = 0\n",
    "    user_wins = 0\n",
    "    game = camera_rps()\n",
    "    while True:\n",
    "        player_choice = game.get_prediction()\n",
    "        computer_choice = game.get_computer_choice()\n",
    "        user_win, computer_win = game.get_winner(computer_choice, player_choice)\n",
    "        user_wins += user_win\n",
    "        computer_wins += computer_win\n",
    "        #print('loop')\n",
    "        if computer_wins == 3:\n",
    "            print(\"Computer wins the game\")\n",
    "            break\n",
    "        elif user_wins == 3:\n",
    "            print(\"You win, congrats!\")\n",
    "            break\n",
    "        else:\n",
    "            print(f\"User score: {user_wins}\\nComputer score: {computer_wins}\")\n",
    "            print('Play another turn')\n",
    "\n",
    "    game.destroywindows()\n",
    "    # I should add a way of exiting the game (use ESC)\n",
    "    return\n",
    "\n",
    "\n",
    "\n",
    "\n",
    "play_game()"
   ]
  },
  {
   "cell_type": "code",
   "execution_count": 56,
   "metadata": {},
   "outputs": [
    {
     "ename": "NameError",
     "evalue": "name 'game' is not defined",
     "output_type": "error",
     "traceback": [
      "\u001b[0;31m---------------------------------------------------------------------------\u001b[0m",
      "\u001b[0;31mNameError\u001b[0m                                 Traceback (most recent call last)",
      "Cell \u001b[0;32mIn[56], line 1\u001b[0m\n\u001b[0;32m----> 1\u001b[0m game\u001b[39m.\u001b[39mdestroywindows()\n",
      "\u001b[0;31mNameError\u001b[0m: name 'game' is not defined"
     ]
    }
   ],
   "source": [
    "game.destroywindows()\n"
   ]
  },
  {
   "cell_type": "code",
   "execution_count": null,
   "metadata": {},
   "outputs": [],
   "source": []
  }
 ],
 "metadata": {
  "kernelspec": {
   "display_name": "base",
   "language": "python",
   "name": "python3"
  },
  "language_info": {
   "codemirror_mode": {
    "name": "ipython",
    "version": 3
   },
   "file_extension": ".py",
   "mimetype": "text/x-python",
   "name": "python",
   "nbconvert_exporter": "python",
   "pygments_lexer": "ipython3",
   "version": "3.10.11"
  },
  "orig_nbformat": 4
 },
 "nbformat": 4,
 "nbformat_minor": 2
}
